{
 "cells": [
  {
   "cell_type": "code",
   "execution_count": null,
   "metadata": {
    "ExecuteTime": {
     "end_time": "2021-03-26T01:41:47.880863Z",
     "start_time": "2021-03-26T01:41:46.868570Z"
    }
   },
   "outputs": [],
   "source": [
    "import os\n",
    "import random\n",
    "import time\n",
    "\n",
    "import numpy as np\n",
    "import torch\n",
    "import torch.nn as nn\n",
    "import torch.optim as optim\n",
    "\n",
    "from datasets.user_profile_mode import UserProfileModeDataset\n",
    "from models.acf import ACF\n",
    "from trainers.acf_trainer import ACFTrainer\n",
    "from trainers.losses import warp_loss"
   ]
  },
  {
   "cell_type": "code",
   "execution_count": null,
   "metadata": {},
   "outputs": [],
   "source": [
    "# Dataset\n",
    "DATASET = \"Wikimedia\"\n",
    "assert DATASET in [\"UGallery\", \"Wikimedia\"]"
   ]
  },
  {
   "cell_type": "code",
   "execution_count": null,
   "metadata": {
    "ExecuteTime": {
     "end_time": "2021-03-26T01:41:50.055518Z",
     "start_time": "2021-03-26T01:41:50.052454Z"
    }
   },
   "outputs": [],
   "source": [
    "# Parameters\n",
    "RNG_SEED = 0\n",
    "EMBEDDING_PATH = os.path.join(\"data\", DATASET, \"embedding-resnet50-layer4.npy\")\n",
    "TRAINING_PATH = os.path.join(\"data\", DATASET, \"naive-user-train.csv\")\n",
    "VALIDATION_PATH = os.path.join(\"data\", DATASET, \"naive-user-validation.csv\")\n",
    "CHECKPOINTS_DIR = os.path.join(\"checkpoints\")\n",
    "USE_GPU = True\n",
    "\n",
    "# Parameters (training)\n",
    "SETTINGS = {\n",
    "    \"batch_sampler:batch_size\": 128,\n",
    "    \"optimizer:lr\": 1e-3,\n",
    "    \"optimizer:weight_decay\": 1e-5,\n",
    "    \"train:max_epochs\": 10,\n",
    "    \"model:model_dim\": 128,\n",
    "}"
   ]
  },
  {
   "cell_type": "code",
   "execution_count": null,
   "metadata": {
    "ExecuteTime": {
     "end_time": "2021-03-26T01:41:59.213466Z",
     "start_time": "2021-03-26T01:41:51.073361Z"
    }
   },
   "outputs": [],
   "source": [
    "%%time\n",
    "# Freezing RNG seed if needed\n",
    "if RNG_SEED is not None:\n",
    "    print(f\"\\nUsing random seed...\")\n",
    "    random.seed(RNG_SEED)\n",
    "    torch.manual_seed(RNG_SEED)\n",
    "    np.random.seed(RNG_SEED)\n",
    "\n",
    "# Training DataLoader\n",
    "train_dataset = UserProfileModeDataset(\n",
    "    csv_file=TRAINING_PATH,\n",
    ")\n",
    "print(f\">> Training dataset: {len(train_dataset)}\")\n",
    "\n",
    "# Validation DataLoader\n",
    "valid_dataset = UserProfileModeDataset(\n",
    "    csv_file=VALIDATION_PATH,\n",
    ")\n",
    "print(f\">> Validation dataset: {len(valid_dataset)}\")\n",
    "\n",
    "# Model initialization\n",
    "print(\"\\nInitialize model\")\n",
    "device = torch.device(\"cuda:0\" if torch.cuda.is_available() and USE_GPU else \"cpu\")\n",
    "if torch.cuda.is_available() != USE_GPU:\n",
    "    print((f\"\\nNotice: Not using GPU - \"\n",
    "           f\"Cuda available ({torch.cuda.is_available()}) \"\n",
    "           f\"does not match USE_GPU ({USE_GPU})\"\n",
    "    ))\n",
    "model = ACF(\n",
    "    train_dataset.users,\n",
    "    train_dataset.items,\n",
    "    feature_path=EMBEDDING_PATH,\n",
    "    model_dim=SETTINGS[\"model:model_dim\"],\n",
    "    device=device\n",
    ").to(device)\n",
    "\n",
    "# Training setup\n",
    "print(\"\\nSetting up training\")\n",
    "optimizer = optim.Adam(\n",
    "    model.parameters(),\n",
    "    lr=SETTINGS[\"optimizer:lr\"],\n",
    "    weight_decay=SETTINGS[\"optimizer:weight_decay\"],\n",
    ")\n",
    "criterion = warp_loss\n",
    "\n",
    "# Training\n",
    "print(\"\\nTraining\")\n"
   ]
  },
  {
   "cell_type": "code",
   "execution_count": null,
   "metadata": {
    "ExecuteTime": {
     "end_time": "2021-03-26T02:07:15.586369Z",
     "start_time": "2021-03-26T01:42:00.462845Z"
    }
   },
   "outputs": [],
   "source": [
    "%%time\n",
    "# Training\n",
    "version = (\n",
    "    f\"{model.__class__.__name__}_\"\n",
    "    f\"{DATASET.lower()}\"\n",
    ")\n",
    "\n",
    "datasets = train_dataset, valid_dataset\n",
    "trainer = ACFTrainer(\n",
    "    model, datasets, criterion, optimizer, version,\n",
    "    device=device, batch_size=SETTINGS[\"batch_sampler:batch_size\"],\n",
    "    checkpoint_dir=CHECKPOINTS_DIR\n",
    ")\n",
    "\n",
    "trainer.fit(SETTINGS[\"train:max_epochs\"])"
   ]
  },
  {
   "cell_type": "code",
   "execution_count": null,
   "metadata": {},
   "outputs": [],
   "source": []
  }
 ],
 "metadata": {
  "kernelspec": {
   "display_name": "Python 3",
   "language": "python",
   "name": "python3"
  },
  "language_info": {
   "codemirror_mode": {
    "name": "ipython",
    "version": 3
   },
   "file_extension": ".py",
   "mimetype": "text/x-python",
   "name": "python",
   "nbconvert_exporter": "python",
   "pygments_lexer": "ipython3",
   "version": "3.7.5"
  }
 },
 "nbformat": 4,
 "nbformat_minor": 4
}
